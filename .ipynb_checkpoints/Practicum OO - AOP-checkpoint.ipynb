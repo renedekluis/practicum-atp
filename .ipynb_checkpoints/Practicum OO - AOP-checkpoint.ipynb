{
 "cells": [
  {
   "cell_type": "markdown",
   "metadata": {},
   "source": [
    "# Practicum OO - AOP\n",
    "Dit bestand bevat de practicumopgaven voor de module OO&AOP van het vak Advanced Technical Programming (TCIT-VKATP-17). \n",
    "\n",
    "Een Jupyter Notebook bestaat uit cells met code of toelichting. Sommige code-cells hoeven enkel uitgevoerd te worden om functies beschikbaar te maken, anderen moet je zelf in vullen (opdrachten staan duidelijk met kopjes gemarkeerd, je moet dan zelf de delen met TODO invullen). Je kunt de code per cel uitvoeren door de cel te selecteren en \"run cell\" te kiezen. De cel direct hieronder laadt de nodige modules in. Als je code niet naar verwachting werkt kan het zijn dat je deze cell moet runnen, of een van de andere cels vóór de cel met error. Let erop dat als je de Jupyter-server afsluit en later verder gaat moet je deze cells opnieuw runnen."
   ]
  },
  {
   "cell_type": "code",
   "execution_count": 1,
   "metadata": {
    "collapsed": true
   },
   "outputs": [],
   "source": [
    "from unittest import *    \n",
    "import doctest\n",
    "import io\n",
    "from inspect import *\n",
    "from contextlib import redirect_stdout"
   ]
  },
  {
   "cell_type": "markdown",
   "metadata": {},
   "source": [
    "__Opdrachten die zijn gemarkeerd met _[PORTFOLIO]_ dienen te worden opgenomen in je portfolio voor de eindopgave__.\n",
    "\n",
    "Laat deze opdrachten door je docent aftekenen aan het einde van de les (of aan het begin van de volgende les)."
   ]
  },
  {
   "cell_type": "markdown",
   "metadata": {},
   "source": [
    "***\n",
    "## College 2: Reflectie en metaprogrammeren\n",
    "Deze opdrachten gaan over het college over reflectie en metaprogrammeren en dienen aan het einde van dat college te worden gemaakt.\n",
    "\n",
    "Maak ook de opdrachten in de reader!\n",
    "\n",
    "\n",
    "#### Opdracht 2.1 — OO in Python [Portfolio]\n",
    "Een Queue is gebaseerd op het FIFO-principe: First In First Out\n",
    "\n",
    "<img src=\"queue.png\" width=\"500px\">\n",
    "\n",
    "`enqueue` voegt een element achteraan toe.  \n",
    "`dequeue` haalt een element vooraan weg.\n",
    "\n",
    "De volgende klasse implementeert Queue:"
   ]
  },
  {
   "cell_type": "code",
   "execution_count": 3,
   "metadata": {
    "collapsed": true
   },
   "outputs": [],
   "source": [
    "class MyQueue(list):\n",
    "    def __init__(self, a=[]):\n",
    "        list.__init__(self, a)\n",
    "    \n",
    "    def dequeue(self):\n",
    "        return self.pop(0) # geen fout-afhandeling\n",
    "    \n",
    "    def enqueue(self, x):\n",
    "        self.append(x)"
   ]
  },
  {
   "cell_type": "markdown",
   "metadata": {},
   "source": [
    "Python heeft een aantal ingebouwde queue-klassen: Queue, LifeQueue, PriorityQueue, en deque.\n",
    "\n",
    "`deque` staat voor double-ended queue: aan beide kanten van de queue kan worden toegevoegd en verwijderd.\n",
    "\n",
    "Breidt de klasse `MyQueue` uit tot de klasse `MyDeQue`.\n",
    "\n",
    "De klasse heeft de volgende methoden:\n",
    "* `appendright(x)`: voeg `x` aan de rechterkant toe\n",
    "* `appendleft(x)`: voeg `x` aan de linkerkant toe\n",
    "* `popright()`: verwijder en retourneer het element dat helemaal rechts staat\n",
    "* `popleft()`: verwijder en retourneer het element dat helemaal links staat\n",
    "* `reverse()`: keer de elementen in de queue om\n",
    "* `rotateright(n)`: verschuif de elementen `n` posities naar rechts.\n",
    "  Als `n < 0`: verschuif de elementen (`-n`)  posities naar links.\n",
    "* `rotateleft(n)`: verschuif de elementen `n` posities naar links.\n",
    "  Als `n < 0`: verschuif de elementen (`-n`) posities naar rechts.\n",
    "  \n",
    "Maak zoveel mogelijk gebruik van de andere methoden en methoden uit de super-klassen. Zorg voor een goede fout-afhandeling.\n",
    "\n",
    "Denk er ook aan dat je voldoende tests schrijft om de functionaliteit zoals hierboven gegeven kan garanderen!"
   ]
  },
  {
   "cell_type": "code",
   "execution_count": 18,
   "metadata": {
    "collapsed": false
   },
   "outputs": [
    {
     "name": "stdout",
     "output_type": "stream",
     "text": [
      "[1, 2, 3, 4, 5, 6, 7, 8]\n",
      "[1, 2, 3, 4, 5, 6, 7, 8, 9]\n",
      "[0, 1, 2, 3, 4, 5, 6, 7, 8, 9]\n",
      "[0, 1, 2, 3, 4, 5, 6, 7, 8]\n",
      "[1, 2, 3, 4, 5, 6, 7, 8]\n",
      "[8, 7, 6, 5, 4, 3, 2, 1]\n",
      "[2, 1, 8, 7, 6, 5, 4, 3]\n",
      "[8, 7, 6, 5, 4, 3, 2, 1]\n"
     ]
    }
   ],
   "source": [
    "class MyDeQue(MyQueue):\n",
    "    def __init__(self,a=[]):\n",
    "        MyQueue.__init__(self, a)\n",
    "\n",
    "    def clearList(self):\n",
    "        while len(self)>0:\n",
    "            self.pop()\n",
    "    \n",
    "    def appendright(self, x):\n",
    "        return self.append(x)\n",
    "\n",
    "    def appendleft(self,x):\n",
    "        b = [x]+self\n",
    "        self.clearList()\n",
    "        \n",
    "        while len(b) >0:\n",
    "            self.append(b.pop(0))\n",
    "            \n",
    "    def popright(self):\n",
    "        if len(self) > 0:\n",
    "            return self.pop()\n",
    "        return None\n",
    "    \n",
    "    def popleft(self):\n",
    "        if len(self) > 0:\n",
    "            return self.pop(0)\n",
    "        return None\n",
    "        \n",
    "    \n",
    "    def reverse(self):\n",
    "        b = MyDeQue()\n",
    "        while len(self)>0:\n",
    "            b.append(self.popright())\n",
    "        while len(b)>0:\n",
    "            self.append(b.popleft())\n",
    "        \n",
    "    \n",
    "    def rotateright(self,n):\n",
    "        b = self[-n:] + self[:-n]\n",
    "        self.clearList()\n",
    "        while len(b)>0:\n",
    "            self.append(b.pop(0))\n",
    "    \n",
    "    def rotateleft(self,n):\n",
    "        b =  self[n:] + self[:n]\n",
    "        self.clearList()\n",
    "        while len(b)>0:\n",
    "            self.append(b.pop(0))\n",
    "\n"
   ]
  },
  {
   "cell_type": "markdown",
   "metadata": {},
   "source": [
    "#### Opdracht 2.2 — `eval` en veiligheid [Portfolio]\n",
    "\n",
    "Raadpleeg de site https://www.programiz.com/python-programming/methods/built-in/eval\n",
    "\n",
    "Een eenvoudige interactieve expressie-evaluator is de volgende:"
   ]
  },
  {
   "cell_type": "code",
   "execution_count": null,
   "metadata": {
    "collapsed": true
   },
   "outputs": [],
   "source": [
    "while True:\n",
    "    r = input(\"Type an expression: \")\n",
    "    print(\"Result:\", eval(r))"
   ]
  },
  {
   "cell_type": "markdown",
   "metadata": {},
   "source": [
    "Een dergelijke evaluator is onveilig. Als de gebruiker in een Linux-omgeving de expressie `os.system('rm -rf *')` intikt, kan er veel schade worden aangericht. Je kunt dit voorkomen door bij de eval-functie een dictionary mee te geven.\n",
    "\n",
    "Schrijf de klasse SimpleSecureEvaluator. De klasse bevat een dictionary-attribuut `d` en een methode `eval`.\n",
    "\n",
    "De klasse wordt gebruikt bij interactieve sessies, waarbij de gebruiker het volgende kan invoeren:\n",
    "* een toekenningsopdracht. De opdracht van de vorm `<variabele> = <expressie>` wordt opgeslagen in dictionary-attribuut `d`. Hierbij wordt <variabele> als key-waarde opgeslagen. De expressie wordt eerst geëvalueerd en het resultaat wordt als value-waarde bij de key-waarde opgeslagen. Ook opdrachten van de vorm `i = i +1` zijn toegestaan, maar alleen variabelen van voorafgaande toekenningsopdrachten mogen in de expressie voorkomen.\n",
    "* een expressie. Alleen variabelen van voorafgaande toekenningsopdrachten mogen in de expressie voorkomen. Bij de evaluatie van de expressie wordt gebruik gemaakt van `d`. Het resultaat wordt aan de gebruiker getoond.\n",
    "* de opdracht `mydir`. De dictionary `d` wordt dan getoond."
   ]
  },
  {
   "cell_type": "code",
   "execution_count": 72,
   "metadata": {
    "collapsed": false
   },
   "outputs": [
    {
     "name": "stdout",
     "output_type": "stream",
     "text": [
      "1\n",
      "{'b ': 1}\n"
     ]
    }
   ],
   "source": [
    "class SimpleSecureEvaluator(object):\n",
    "    \n",
    "    def __init__(self):\n",
    "        self.d = {}\n",
    "    \n",
    "    def myeval(self, expressie):\n",
    "        if expressie.find('='):\n",
    "            a = expressie.split('=')\n",
    "            if len(a) == 2:\n",
    "                self.d[a[0]] = eval(a[1],self.d)\n",
    "                return self.d[a[0]]\n",
    "        if expressie == 'mydir':\n",
    "            c = {}\n",
    "            for i in self.d.keys():\n",
    "                if i != '__builtins__':\n",
    "                    c[i] = self.d.get(i)\n",
    "            return c\n",
    "        \n",
    "    \n",
    "        \n",
    "\n",
    "SSE = SimpleSecureEvaluator()\n",
    "print(SSE.myeval(\"a = b = 1\"))\n",
    "\n",
    "print(SSE.myeval(\"mydir\"))"
   ]
  },
  {
   "cell_type": "markdown",
   "metadata": {},
   "source": [
    "#### Opdracht 2.3.1 — Introspectie van functies\n",
    "Schrijf een programma dat van een gegeven pyc-file (`function_demo.pyc`) nagaat welke functies de file bevat. Bepaal bij iedere functie de signature en de documentatie. Test de functies.\n",
    "\n",
    "Ga als volgt te werk:\n",
    "* Pas de opdracht `dir(<modulename>)` toe. Het resultaat is een lijst van element-namen van de file. De lijst bevat strings.\n",
    "* Bepaal van ieder element het type. Gebruik hierbij de eval-functie.\n",
    "* Maak gebruik van het volgende: voor een functie `f` geldt: `type(f).__name__ = 'function'`.\n",
    "* Gebruikt de functies `signature` en `getdoc` van de module `inspect`."
   ]
  },
  {
   "cell_type": "code",
   "execution_count": 115,
   "metadata": {
    "collapsed": false
   },
   "outputs": [
    {
     "name": "stdout",
     "output_type": "stream",
     "text": [
      "sort in place list a.\n",
      "parameters:\n",
      "    a: list to be sorted\n",
      "    low: lowest index of a\n",
      "    high: highest index of a\n",
      "return:\n",
      "    None\n",
      "insertionSort(){\n",
      "}\n",
      "(a:typing.List, low:int, high:int) -> None\n",
      "\n",
      "\n",
      "\n",
      "test of a gesorteerd is.\n",
      "parameters:\n",
      "    a: list to be tested\n",
      "return:\n",
      "    True if a is sorted\n",
      "    False if a is unsorted\n",
      "isSorted(){\n",
      "}\n",
      "(a:typing.List) -> bool\n",
      "\n",
      "\n",
      "\n",
      "sort recursively in place list a.\n",
      "parameters:\n",
      "    a: list to be sorted\n",
      "    low: lowest index of a\n",
      "    high: highest index of a\n",
      "return:\n",
      "    None\n",
      "mergeSort(){\n",
      "}\n",
      "(a:typing.List, low:int=0, high:int=-1) -> None\n",
      "\n",
      "\n",
      "\n"
     ]
    }
   ],
   "source": [
    "import function_demo_3_5 # Select correct import for your interpreter version\n",
    "from inspect import *\n",
    "#import function_demo_3_6\n",
    "\n",
    "# TODO: zie hierboven\n",
    "dir(function_demo_3_5)\n",
    "for i in dir(function_demo_3_5):\n",
    "    if type(eval(\"function_demo_3_5.\"+i)).__name__ == 'function': \n",
    "        print(inspect.getdoc(eval(\"function_demo_3_5.\"+i)))\n",
    "        print(i+\"(){\\n}\")\n",
    "        print(inspect.signature(eval(\"function_demo_3_5.\"+i)))\n",
    "        print(\"\\n\\n\")\n",
    "    #pass\n",
    "\n",
    "\n"
   ]
  },
  {
   "cell_type": "markdown",
   "metadata": {},
   "source": [
    "#### Opdracht 2.3.2 — Introspectie van klassen\n",
    "Schrijf een programma dat van de gegeven pyc-file (`class_demo.pyc`) nagaat welke klassen de file bevat.\n",
    "\n",
    "Ga te werk zoals bij opdracht 2.3.1.\n",
    "\n",
    "Bedenk daarbij het volgende:\n",
    "* Voor een klasse `C` geldt: `type(c).__name__ == 'type'`\n",
    "* Voor een methode `m` geldt: `type(m).__name__ == 'function'`"
   ]
  },
  {
   "cell_type": "code",
   "execution_count": 8,
   "metadata": {
    "collapsed": false
   },
   "outputs": [
    {
     "name": "stdout",
     "output_type": "stream",
     "text": [
      "None\n",
      "Class: BST(a:typing.List=None)\n",
      "\n",
      "None\n",
      "Class: BSTNode(element:typing.A, left:typing.List, right:typing.List)\n",
      "\n"
     ]
    }
   ],
   "source": [
    "import class_demo_3_5\n",
    "# import class_demo_3_6\n",
    "from inspect import *\n",
    "\n",
    "\n",
    "# TODO: zie hierboven\n",
    "dir(class_demo_3_5)\n",
    "for i in dir(class_demo_3_5):\n",
    "    name = type(eval(\"class_demo_3_5.\"+i)).__name__\n",
    "    if name == 'type': \n",
    "        doc = inspect.getdoc(eval(\"class_demo_3_5.\"+i))\n",
    "        signature = inspect.signature(eval(\"class_demo_3_5.\"+i))\n",
    "        print(doc)\n",
    "        print(\"Class: \"+i+str(signature)+\"\\n\")\n",
    "\n",
    "    if name == 'function': \n",
    "        doc = inspect.getdoc(eval(\"class_demo_3_5.\"+i))\n",
    "        signature = inspect.signature(eval(\"class_demo_3_5.\"+i))\n",
    "        print(doc)\n",
    "        print(\"Methode: \"+i+str(signature)+\"\\n\")\n",
    "\n",
    "\n",
    "\n",
    "# TODO: zie hierboven"
   ]
  },
  {
   "cell_type": "markdown",
   "metadata": {},
   "source": [
    "#### Opdracht 2.4 — Decorators [ Portfolio]\n",
    "Een decorator is een functie die andere functies aanpast om zodanig (aspect-oriented) functionaliteit toe te voegen. Denk bijvoorbeeld aan de optie op een timing toe te  voegen (hoe lang duurt het uitvoeren van een bepaalde functie-aanroep), of security aspecten (alleen als het juiste pincode/password wordt ingevoerd na aanroep zal de functie ook echt worden uitgevoerd).\n",
    "\n",
    "Het basispatroon van een decorator is het volgende:"
   ]
  },
  {
   "cell_type": "code",
   "execution_count": 25,
   "metadata": {
    "collapsed": false
   },
   "outputs": [
    {
     "name": "stdout",
     "output_type": "stream",
     "text": [
      "__main__: MyDecorator( successor)\n",
      "__main__: Inner( successor)\n",
      "__main__: Successor\n",
      "4\n",
      "--------------------\n",
      "2.0\n",
      "--------------------\n",
      "__main__: MyDecorator( sqrt)\n",
      "__main__: Inner( sqrt)\n",
      "2.0\n"
     ]
    }
   ],
   "source": [
    "from functools import wraps\n",
    "import sys\n",
    "\n",
    "\n",
    "def myDecorator(f):\n",
    "    moduleName = sys.modules[__name__].__name__\n",
    "    print(moduleName + \": \" + \"MyDecorator( \"+f.__name__+\")\")\n",
    "    \n",
    "    @wraps(f) \n",
    "    def inner(*args, **kwargs): \n",
    "        print(moduleName + \": \" + \"Inner( \"+f.__name__+\")\")\n",
    "        result = f(*args, **kwargs)\n",
    "        return result\n",
    "    return inner\n",
    "\n",
    "\n",
    "@myDecorator\n",
    "def successor(x):\n",
    "    print(sys.modules[__name__].__name__ + \": \" + \"Successor\")\n",
    "    return x+1\n",
    "\n",
    "print(successor(3))\n",
    "print('-'*20)\n",
    "\n",
    "\n",
    "from math import sqrt\n",
    "print(sqrt(4)) \n",
    "\n",
    "print('-'*20)\n",
    "\n",
    "sqrt = myDecorator(sqrt)\n",
    "print(sqrt(4)) "
   ]
  },
  {
   "cell_type": "markdown",
   "metadata": {},
   "source": [
    "Herschrijf de decorator hierboven zodat hij naar het scherm schrijft welke functie (naam) uit welke module (naam) er gedraait is. Je kan deze decorator vervolgens toepassen bij de volgende opdracht, als je kan achterhalen hoe je hem toevoegd aan __alle__ functies van __alle__ modules van de simulator."
   ]
  },
  {
   "cell_type": "markdown",
   "metadata": {},
   "source": [
    "#### Eindopdracht\n",
    "Gebruik de beschrijving van de simulator in hoofdstuk 6.1 van de reader en introspectie om:\n",
    "* Het functioneren van de simulator te achterhalen;\n",
    "* Tests te kunnen draaien om de correctheid van de simulator te achterhalen (functioneert de simulator vergelijkbaar met de fysieke opstelling?);\n",
    "* De controller unit van de simulator te vervangen door een eigen geschreven variant.\n",
    "\n",
    "De Python-byte code van de simulator is toegevoegd in de folder `simulator-3.5` (voor Python 3.5) en `simulator-3.6` (voor Python 3.6). Gebruik `main.py` om de simulator te starten.   \n",
    "De GUI vereist de installatie van PyGame; gebruik `pip3 install pygame` in een prompt om de pygame-module te installeren (draai als Admin op Windows)."
   ]
  },
  {
   "cell_type": "code",
   "execution_count": 7,
   "metadata": {
    "collapsed": false
   },
   "outputs": [
    {
     "ename": "SyntaxError",
     "evalue": "invalid syntax (<ipython-input-7-718aaf0ca83e>, line 6)",
     "output_type": "error",
     "traceback": [
      "\u001b[0;36m  File \u001b[0;32m\"<ipython-input-7-718aaf0ca83e>\"\u001b[0;36m, line \u001b[0;32m6\u001b[0m\n\u001b[0;31m    from simulator-3.5 import Controller\u001b[0m\n\u001b[0m                  ^\u001b[0m\n\u001b[0;31mSyntaxError\u001b[0m\u001b[0;31m:\u001b[0m invalid syntax\n"
     ]
    }
   ],
   "source": [
    "import sys\n",
    "sys.path.insert(0, 'simulator-3.5')\n",
    "from os import listdir\n",
    "files = os.listdir('simulator-3.5')\n",
    "from inspect import *\n",
    "from simulator-3.5 import Controller\n",
    "\n",
    "for i in files:\n",
    "    if i.endswith('.pyc'):\n",
    "        filename, extension = i.split('.')\n",
    "        \n",
    "        print(filename)\n",
    "        print('-'*20)\n",
    "        \n",
    "        for j in dir(filename):\n",
    "            name = filename+\".\"+j\n",
    "            print(sys.modules[filename].__name__)\n",
    "            #name = type(eval(filename+\".\"+j)).__name__\n",
    "            #print(name)\n",
    "            \n",
    "            \n",
    "            \n",
    "            "
   ]
  },
  {
   "cell_type": "code",
   "execution_count": null,
   "metadata": {
    "collapsed": true
   },
   "outputs": [],
   "source": []
  },
  {
   "cell_type": "code",
   "execution_count": null,
   "metadata": {
    "collapsed": true
   },
   "outputs": [],
   "source": []
  }
 ],
 "metadata": {
  "anaconda-cloud": {},
  "kernelspec": {
   "display_name": "Python [default]",
   "language": "python",
   "name": "python3"
  },
  "language_info": {
   "codemirror_mode": {
    "name": "ipython",
    "version": 3
   },
   "file_extension": ".py",
   "mimetype": "text/x-python",
   "name": "python",
   "nbconvert_exporter": "python",
   "pygments_lexer": "ipython3",
   "version": "3.5.2"
  }
 },
 "nbformat": 4,
 "nbformat_minor": 2
}
